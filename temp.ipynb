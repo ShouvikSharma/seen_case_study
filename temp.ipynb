{
 "cells": [
  {
   "cell_type": "code",
   "execution_count": 39,
   "metadata": {},
   "outputs": [],
   "source": [
    "import yaml  \n",
    "from dataclasses import dataclass\n",
    "from typing import List, Any, Dict"
   ]
  },
  {
   "cell_type": "code",
   "execution_count": 40,
   "metadata": {},
   "outputs": [],
   "source": [
    "# mode the data in python\n",
    "# no need for special classes such as repr, lt, gt, ge\n",
    "@dataclass\n",
    "class MonitorConfig:\n",
    "    name: str\n",
    "    owner: str\n",
    "    monitor_type: str\n",
    "    description: str\n",
    "    run_type: str\n",
    "    schedule: str\n",
    "    sql_file: str\n",
    "    recipients: List[str]\n",
    "    database: str\n",
    "    columns: str\n",
    "    communication_channel: str\n",
    "    monitor_run_date: str = None\n",
    "    prior_notification_time_period: int = None\n",
    "\n",
    "\n",
    "with open(\"monitors.yaml\",\"r\") as file:\n",
    "    config: List[MonitorConfig] = [MonitorConfig(**monitor) for monitor in yaml.safe_load(file)[\"monitors\"]]\n"
   ]
  },
  {
   "cell_type": "code",
   "execution_count": 41,
   "metadata": {},
   "outputs": [
    {
     "data": {
      "text/plain": [
       "[MonitorConfig(name='Transaction Monitor', owner='testuser', monitor_type='Transaction', description='This monitor checks the daily transactions', run_type='regular', schedule='0 5 * * *', sql_file='transactions.sql', recipients=['testuser@example.com'], database='sample.db', columns=['customer_id', 'account_id', 'transaction_date', 'merchant_name'], communication_channel='jira', monitor_run_date='', prior_notification_time_period='day'),\n",
       " MonitorConfig(name='Monthly Monitor', owner='testuser', monitor_type='Transaction', description='This monitor checks the monthly transactions', run_type='regular', schedule='0 5 1 * * ', sql_file='spend_patterns.sql', recipients=['testuser@example.com'], database='sample.db', columns=['account_id', 'month_yt', 'avg_monthly_transaction_amount'], communication_channel='email', monitor_run_date='', prior_notification_time_period='day'),\n",
       " MonitorConfig(name='Spend Monitor', owner='testuser', monitor_type='Transaction', description='This monitor checks the monthly transactions', run_type='manual', schedule='0 5 * * * ', sql_file='cumulative_spend.sql', recipients=['testuser@example.com'], database='sample.db', columns=['account_id', 'total_spend'], communication_channel='email', monitor_run_date='', prior_notification_time_period='month')]"
      ]
     },
     "execution_count": 41,
     "metadata": {},
     "output_type": "execute_result"
    }
   ],
   "source": [
    "config"
   ]
  },
  {
   "cell_type": "code",
   "execution_count": 47,
   "metadata": {},
   "outputs": [
    {
     "ename": "ModuleNotFoundError",
     "evalue": "No module named 'sqllite3'",
     "output_type": "error",
     "traceback": [
      "\u001b[0;31m---------------------------------------------------------------------------\u001b[0m",
      "\u001b[0;31mModuleNotFoundError\u001b[0m                       Traceback (most recent call last)",
      "Cell \u001b[0;32mIn[47], line 2\u001b[0m\n\u001b[1;32m      1\u001b[0m \u001b[38;5;28;01mimport\u001b[39;00m \u001b[38;5;21;01myaml\u001b[39;00m\n\u001b[0;32m----> 2\u001b[0m \u001b[38;5;28;01mimport\u001b[39;00m \u001b[38;5;21;01msqllite3\u001b[39;00m\n\u001b[1;32m      3\u001b[0m \u001b[38;5;28;01mfrom\u001b[39;00m \u001b[38;5;21;01mtyping\u001b[39;00m \u001b[38;5;28;01mimport\u001b[39;00m List, Dict, AnyStr\n",
      "\u001b[0;31mModuleNotFoundError\u001b[0m: No module named 'sqllite3'"
     ]
    }
   ],
   "source": [
    "import yaml\n",
    "import sqllite3\n",
    "from typing import List, Dict, AnyStr"
   ]
  },
  {
   "cell_type": "code",
   "execution_count": 46,
   "metadata": {},
   "outputs": [
    {
     "name": "stdout",
     "output_type": "stream",
     "text": [
      "\u001b[31mERROR: Could not find a version that satisfies the requirement sqlite-database (from versions: none)\u001b[0m\n",
      "\u001b[31mERROR: No matching distribution found for sqlite-database\u001b[0m\n",
      "\u001b[33mWARNING: You are using pip version 21.2.3; however, version 24.0 is available.\n",
      "You should consider upgrading via the '/Users/ssharm23/.pyenv/versions/3.10.0/bin/python -m pip install --upgrade pip' command.\u001b[0m\n",
      "Note: you may need to restart the kernel to use updated packages.\n"
     ]
    }
   ],
   "source": [
    "pip install sqlite-database"
   ]
  },
  {
   "cell_type": "code",
   "execution_count": null,
   "metadata": {},
   "outputs": [],
   "source": []
  }
 ],
 "metadata": {
  "kernelspec": {
   "display_name": "Python 3",
   "language": "python",
   "name": "python3"
  },
  "language_info": {
   "codemirror_mode": {
    "name": "ipython",
    "version": 3
   },
   "file_extension": ".py",
   "mimetype": "text/x-python",
   "name": "python",
   "nbconvert_exporter": "python",
   "pygments_lexer": "ipython3",
   "version": "3.10.0"
  }
 },
 "nbformat": 4,
 "nbformat_minor": 2
}
